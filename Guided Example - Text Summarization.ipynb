{
 "cells": [
  {
   "cell_type": "code",
   "execution_count": 1,
   "metadata": {},
   "outputs": [],
   "source": [
    "import numpy as np\n",
    "import pandas as pd\n",
    "import scipy\n",
    "import matplotlib.pyplot as plt\n",
    "import networkx as nx\n",
    "import spacy\n",
    "from sklearn.feature_extraction.text import TfidfVectorizer\n",
    "%matplotlib inline"
   ]
  },
  {
   "cell_type": "markdown",
   "metadata": {},
   "source": [
    "### Summarizing Text\n",
    "Let's try out extractive summarization using the first four paragraphs of The Great Gatsby.\n",
    "\n",
    "First, we'll try to extract the most representative sentence. Then, we'll extract keywords.\n",
    "\n",
    "### Sentence extraction\n",
    "The steps of our sentence extraction process:\n",
    "\n",
    "Parse and tokenize the text using spaCy, and divide into sentences.\n",
    "Calculate the tf-idf matrix.\n",
    "Calculate similarity scores.\n",
    "Calculate TextRank: We're going to use the ´networkx´ package to run the TextRank algorithm.\n",
    "Let's get started!"
   ]
  },
  {
   "cell_type": "code",
   "execution_count": 2,
   "metadata": {},
   "outputs": [],
   "source": [
    "# Importing the text the lazy way.\n",
    "gatsby=\"In my younger and more vulnerable years my father gave me some advice that I've been turning over in my mind ever since. \\\"Whenever you feel like criticizing any one,\\\" he told me, \\\"just remember that all the people in this world haven't had the advantages that you've had.\\\" He didn't say any more but we've always been unusually communicative in a reserved way, and I understood that he meant a great deal more than that. In consequence I'm inclined to reserve all judgments, a habit that has opened up many curious natures to me and also made me the victim of not a few veteran bores. The abnormal mind is quick to detect and attach itself to this quality when it appears in a normal person, and so it came about that in college I was unjustly accused of being a politician, because I was privy to the secret griefs of wild, unknown men. Most of the confidences were unsought--frequently I have feigned sleep, preoccupation, or a hostile levity when I realized by some unmistakable sign that an intimate revelation was quivering on the horizon--for the intimate revelations of young men or at least the terms in which they express them are usually plagiaristic and marred by obvious suppressions. Reserving judgments is a matter of infinite hope. I am still a little afraid of missing something if I forget that, as my father snobbishly suggested, and I snobbishly repeat a sense of the fundamental decencies is parcelled out unequally at birth. And, after boasting this way of my tolerance, I come to the admission that it has a limit. Conduct may be founded on the hard rock or the wet marshes but after a certain point I don't care what it's founded on. When I came back from the East last autumn I felt that I wanted the world to be in uniform and at a sort of moral attention forever; I wanted no more riotous excursions with privileged glimpses into the human heart. Only Gatsby, the man who gives his name to this book, was exempt from my reaction--Gatsby who represented everything for which I have an unaffected scorn. If personality is an unbroken series of successful gestures, then there was something gorgeous about him, some heightened sensitivity to the promises of life, as if he were related to one of those intricate machines that register earthquakes ten thousand miles away. This responsiveness had nothing to do with that flabby impressionability which is dignified under the name of the \\\"creative temperament\\\"--it was an extraordinary gift for hope, a romantic readiness such as I have never found in any other person and which it is not likely I shall ever find again. No--Gatsby turned out all right at the end; it is what preyed on Gatsby, what foul dust floated in the wake of his dreams that temporarily closed out my interest in the abortive sorrows and short-winded elations of men.\"\n",
    "\n",
    "# We want to use the standard english-language parser.\n",
    "parser = spacy.load('en')\n",
    "\n",
    "# Parsing Gatsby.\n",
    "gatsby = parser(gatsby)\n",
    "\n",
    "# Dividing the text into sentences and storing them as a list of strings.\n",
    "sentences=[]\n",
    "for span in gatsby.sents:\n",
    "    # go from the start to the end of each span, returning each token in the sentence\n",
    "    # combine each token using join()\n",
    "    sent = ''.join(gatsby[i].string for i in range(span.start, span.end)).strip()\n",
    "    sentences.append(sent)\n",
    "\n",
    "# Creating the tf-idf matrix.\n",
    "counter = TfidfVectorizer(lowercase=False, \n",
    "                          stop_words=None,\n",
    "                          ngram_range=(1, 1), \n",
    "                          analyzer=u'word', \n",
    "                          max_df=.5, \n",
    "                          min_df=1,\n",
    "                          max_features=None, \n",
    "                          vocabulary=None, \n",
    "                          binary=False)\n",
    "\n",
    "#Applying the vectorizer\n",
    "data_counts=counter.fit_transform(sentences)"
   ]
  },
  {
   "cell_type": "markdown",
   "metadata": {},
   "source": [
    "### Similarity\n",
    "So far, this is all (hopefully) familiar: We've done text parsing and the tf-idf calculation before. We should now have sentences represented as vectors, with each word having a score based on how often it occurs in the sentence divided by how often it occurs in the whole text.\n",
    "\n",
    "Now let's calculate the similarity scores for the sentences and apply the TextRank algorithm. Because TextRank is based on Google's PageRank algorithm, the function is called 'pagerank'. The hyperparameters are the damping parameter ´alpha´ and the convergence parameter ´tol´."
   ]
  },
  {
   "cell_type": "code",
   "execution_count": 3,
   "metadata": {},
   "outputs": [
    {
     "name": "stdout",
     "output_type": "stream",
     "text": [
      "(0.07458830063813306, 'This responsiveness had nothing to do with that flabby impressionability which is dignified under the name of the \"creative temperament\"--it was an extraordinary gift for hope, a romantic readiness such as I have never found in any other person and which it is not likely I shall ever find again.')\n"
     ]
    }
   ],
   "source": [
    "# Calculating similarity\n",
    "similarity = data_counts * data_counts.T\n",
    "\n",
    "# Identifying the sentence with the highest rank.\n",
    "nx_graph = nx.from_scipy_sparse_matrix(similarity)\n",
    "ranks=nx.pagerank(nx_graph, alpha=.85, tol=.00000001)\n",
    "\n",
    "ranked = sorted(((ranks[i],s) for i,s in enumerate(sentences)),\n",
    "                reverse=True)\n",
    "print(ranked[0])\n"
   ]
  },
  {
   "cell_type": "markdown",
   "metadata": {},
   "source": [
    "Since a lot of Gatsby is about the narrator acting as the observer of other peoples' sordid secrets, this seems pretty good. Now, let's extract some keywords.\n",
    "\n",
    "### Keyword summarization\n",
    "1) Parse and tokenize text (already done).\n",
    "2) Filter out stopwords, choose only nouns and adjectives.\n",
    "3) Calculate the neighbors of words (we'll use a window of 4).\n",
    "4) Run TextRank on the neighbor matrix."
   ]
  },
  {
   "cell_type": "code",
   "execution_count": 4,
   "metadata": {},
   "outputs": [
    {
     "name": "stdout",
     "output_type": "stream",
     "text": [
      "done!\n"
     ]
    }
   ],
   "source": [
    "# Removing stop words and punctuation, then getting a list of all unique words in the text\n",
    "gatsby_filt = [word for word in gatsby if word.is_stop==False and (word.pos_=='NOUN' or word.pos_=='ADJ')]\n",
    "words=set(gatsby_filt)\n",
    "\n",
    "#Creating a grid indicating whether words are within 4 places of the target word\n",
    "adjacency=pd.DataFrame(columns=words,index=words,data=0)\n",
    "\n",
    "#Iterating through each word in the text and indicating which of the unique words are its neighbors\n",
    "for i,word in enumerate(gatsby):\n",
    "    # Checking if any of the word's next four neighbors are in the word list \n",
    "    if any([word == item for item in gatsby_filt]):\n",
    "        # Making sure to stop at the end of the string, even if there are less than four words left after the target.\n",
    "        end=max(0,len(gatsby)-(len(gatsby)-(i+5)))\n",
    "        # The potential neighbors.\n",
    "        nextwords=gatsby[i+1:end]\n",
    "        # Filtering the neighbors to select only those in the word list\n",
    "        inset=[x in gatsby_filt for x in nextwords]\n",
    "        neighbors=[nextwords[i] for i in range(len(nextwords)) if inset[i]]\n",
    "        # Adding 1 to the adjacency matrix for neighbors of the target word\n",
    "        if neighbors:\n",
    "            adjacency.loc[word,neighbors]=adjacency.loc[word,neighbors]+1\n",
    "\n",
    "print('done!')"
   ]
  },
  {
   "cell_type": "code",
   "execution_count": 5,
   "metadata": {},
   "outputs": [
    {
     "name": "stdout",
     "output_type": "stream",
     "text": [
      "[(0.013842411165984558, hope), (0.012538179113556777, promises), (0.012538179113556777, exempt), (0.012455008769377494, glimpses), (0.012201713657423653, intimate)]\n"
     ]
    },
    {
     "name": "stderr",
     "output_type": "stream",
     "text": [
      "//anaconda3/lib/python3.7/site-packages/ipykernel_launcher.py:2: FutureWarning: Method .as_matrix will be removed in a future version. Use .values instead.\n",
      "  \n"
     ]
    }
   ],
   "source": [
    "# Running TextRank\n",
    "nx_words = nx.from_numpy_matrix(adjacency.as_matrix())\n",
    "ranks=nx.pagerank(nx_words, alpha=.85, tol=.00000001)\n",
    "\n",
    "# Identifying the five most highly ranked keywords\n",
    "ranked = sorted(((ranks[i],s) for i,s in enumerate(words)),\n",
    "                reverse=True)\n",
    "print(ranked[:5])"
   ]
  },
  {
   "cell_type": "markdown",
   "metadata": {},
   "source": [
    "These results are less impressive. 'Hope', 'promises', and 'glimpses' certainly fit the elegiac, on-the-outside-looking-in tone of the book, but 'exempt' and 'world' are pretty generic. TextRank may perform better on a larger text sample.\n",
    "\n",
    "### Drill\n",
    "It is also possible that keyword phrases will work better. Modify the keyword extraction code to extract two-word phrases (digrams) rather than single words. Then try it with trigrams. You will probably want to broaden the window that defines 'neighbors.' Try a few different modifications, and write up your observations in your notebook. Discuss with your mentor."
   ]
  },
  {
   "cell_type": "markdown",
   "metadata": {},
   "source": [
    "A Tfid Vectorizer would work nicely in this situation.  Let's work through setting up a Tfid Vectorizer in order to extra the two-word phrases(digrams)."
   ]
  },
  {
   "cell_type": "code",
   "execution_count": 6,
   "metadata": {},
   "outputs": [],
   "source": [
    "digram_extractor = TfidfVectorizer(lowercase=False, \n",
    "                                  stop_words=None,\n",
    "                                  ngram_range=(2, 2), \n",
    "                                  analyzer=u'word', \n",
    "                                  max_df=.5, \n",
    "                                  min_df=1,\n",
    "                                  max_features=None, \n",
    "                                  vocabulary=None, \n",
    "                                  binary=False)\n",
    "\n",
    "#Applying the vectorizer\n",
    "digram = digram_extractor.fit_transform(sentences)"
   ]
  },
  {
   "cell_type": "code",
   "execution_count": 8,
   "metadata": {},
   "outputs": [
    {
     "name": "stdout",
     "output_type": "stream",
     "text": [
      "['And after', 'Conduct may', 'East last', 'Gatsby the', 'Gatsby turned', 'Gatsby what', 'Gatsby who', 'He didn', 'If personality', 'In consequence', 'In my', 'Most of', 'No Gatsby', 'Only Gatsby', 'Reserving judgments', 'The abnormal', 'This responsiveness', 'When came', 'Whenever you', 'abnormal mind', 'abortive sorrows', 'about him', 'about that', 'accused of', 'admission that', 'advantages that', 'advice that', 'afraid of', 'after boasting', 'after certain', 'all judgments', 'all right', 'all the', 'also made', 'always been', 'am still', 'an extraordinary', 'an intimate', 'an unaffected', 'an unbroken', 'and also', 'and at', 'and attach', 'and marred', 'and more', 'and short', 'and snobbishly', 'and so', 'and understood', 'and which', 'any more', 'any one', 'any other', 'appears in', 'are usually', 'as have', 'as if', 'as my', 'at birth', 'at least', 'at sort', 'at the', 'attach itself', 'attention forever', 'autumn felt', 'back from', 'be founded', 'be in', 'because was', 'been turning', 'been unusually', 'being politician', 'boasting this', 'book was', 'but after', 'but we', 'by obvious', 'by some', 'came about', 'came back', 'care what', 'certain point', 'closed out', 'college was', 'come to', 'communicative in', 'confidences were', 'consequence inclined', 'creative temperament', 'criticizing any', 'curious natures', 'deal more', 'decencies is', 'detect and', 'didn say', 'dignified under', 'do with', 'don care', 'dreams that', 'dust floated', 'earthquakes ten', 'elations of', 'end it', 'ever find', 'ever since', 'everything for', 'excursions with', 'exempt from', 'express them', 'extraordinary gift', 'father gave', 'father snobbishly', 'feel like', 'feigned sleep', 'felt that', 'few veteran', 'find again', 'flabby impressionability', 'floated in', 'for hope', 'for the', 'for which', 'forever wanted', 'forget that', 'foul dust', 'found in', 'founded on', 'frequently have', 'from my', 'from the', 'fundamental decencies', 'gave me', 'gestures then', 'gift for', 'gives his', 'glimpses into', 'gorgeous about', 'great deal', 'griefs of', 'habit that', 'had nothing', 'had the', 'hard rock', 'has limit', 'has opened', 'have an', 'have feigned', 'have never', 'haven had', 'he meant', 'he told', 'he were', 'heightened sensitivity', 'him some', 'his dreams', 'his name', 'hope romantic', 'horizon for', 'hostile levity', 'human heart', 'if forget', 'if he', 'impressionability which', 'in any', 'in college', 'in my', 'in normal', 'in reserved', 'in the', 'in this', 'in uniform', 'in which', 'inclined to', 'infinite hope', 'interest in', 'intimate revelation', 'intimate revelations', 'into the', 'intricate machines', 'is an', 'is dignified', 'is matter', 'is not', 'is parcelled', 'is quick', 'is what', 'it appears', 'it came', 'it founded', 'it has', 'it is', 'it was', 'itself to', 'judgments habit', 'judgments is', 'just remember', 'last autumn', 'least the', 'levity when', 'life as', 'like criticizing', 'likely shall', 'little afraid', 'machines that', 'made me', 'man who', 'many curious', 'marred by', 'marshes but', 'matter of', 'may be', 'me and', 'me just', 'me some', 'me the', 'meant great', 'men or', 'miles away', 'mind ever', 'mind is', 'missing something', 'moral attention', 'more riotous', 'more than', 'more vulnerable', 'my father', 'my interest', 'my mind', 'my reaction', 'my tolerance', 'my younger', 'name of', 'name to', 'natures to', 'never found', 'no more', 'normal person', 'not few', 'not likely', 'nothing to', 'obvious suppressions', 'of being', 'of his', 'of infinite', 'of life', 'of men', 'of missing', 'of moral', 'of my', 'of not', 'of successful', 'of the', 'of those', 'of wild', 'of young', 'on Gatsby', 'on the', 'one he', 'one of', 'opened up', 'or at', 'or hostile', 'or the', 'other person', 'out all', 'out my', 'out unequally', 'over in', 'parcelled out', 'people in', 'person and', 'personality is', 'plagiaristic and', 'point don', 'politician because', 'preoccupation or', 'preyed on', 'privileged glimpses', 'privy to', 'promises of', 'quality when', 'quick to', 'quivering on', 'reaction Gatsby', 'readiness such', 'realized by', 'register earthquakes', 'related to', 'remember that', 'repeat sense', 'represented everything', 'reserve all', 'reserved way', 'responsiveness had', 'revelation was', 'revelations of', 'right at', 'riotous excursions', 'rock or', 'romantic readiness', 'say any', 'secret griefs', 'sense of', 'sensitivity to', 'series of', 'shall ever', 'short winded', 'sign that', 'sleep preoccupation', 'snobbishly repeat', 'snobbishly suggested', 'so it', 'some advice', 'some heightened', 'some unmistakable', 'something gorgeous', 'something if', 'sorrows and', 'sort of', 'still little', 'successful gestures', 'such as', 'suggested and', 'temperament it', 'temporarily closed', 'ten thousand', 'terms in', 'than that', 'that all', 'that an', 'that as', 'that flabby', 'that has', 'that he', 'that in', 'that it', 'that register', 'that temporarily', 'that ve', 'that wanted', 'that you', 'the East', 'the abortive', 'the admission', 'the advantages', 'the confidences', 'the creative', 'the end', 'the fundamental', 'the hard', 'the horizon', 'the human', 'the intimate', 'the man', 'the name', 'the people', 'the promises', 'the secret', 'the terms', 'the victim', 'the wake', 'the wet', 'the world', 'them are', 'then there', 'there was', 'they express', 'this book', 'this quality', 'this way', 'this world', 'those intricate', 'thousand miles', 'to be', 'to detect', 'to do', 'to me', 'to one', 'to reserve', 'to the', 'to this', 'told me', 'tolerance come', 'turned out', 'turning over', 'unaffected scorn', 'unbroken series', 'under the', 'understood that', 'unequally at', 'uniform and', 'unjustly accused', 'unknown men', 'unmistakable sign', 'unsought frequently', 'unusually communicative', 'up many', 'usually plagiaristic', 've always', 've been', 've had', 'veteran bores', 'victim of', 'vulnerable years', 'wake of', 'wanted no', 'wanted the', 'was an', 'was exempt', 'was privy', 'was quivering', 'was something', 'was unjustly', 'way and', 'way of', 'we ve', 'were related', 'were unsought', 'wet marshes', 'what foul', 'what it', 'what preyed', 'when it', 'when realized', 'which have', 'which is', 'which it', 'which they', 'who gives', 'who represented', 'wild unknown', 'winded elations', 'with privileged', 'with that', 'world haven', 'world to', 'years my', 'you feel', 'you ve', 'young men', 'younger and']\n"
     ]
    }
   ],
   "source": [
    "print(digram_extractor.get_feature_names())"
   ]
  },
  {
   "cell_type": "code",
   "execution_count": 9,
   "metadata": {},
   "outputs": [],
   "source": [
    "gatsby_filt = [word.string.strip() for word in gatsby if word.is_stop==False and (word.pos_=='NOUN' or word.pos_=='ADJ')]"
   ]
  },
  {
   "cell_type": "code",
   "execution_count": 10,
   "metadata": {},
   "outputs": [
    {
     "data": {
      "text/plain": [
       "['younger',\n",
       " 'vulnerable',\n",
       " 'years',\n",
       " 'father',\n",
       " 'advice',\n",
       " 'mind',\n",
       " 'people',\n",
       " 'world',\n",
       " 'advantages',\n",
       " 'communicative',\n",
       " 'reserved',\n",
       " 'way',\n",
       " 'great',\n",
       " 'deal',\n",
       " 'consequence',\n",
       " 'inclined',\n",
       " 'judgments',\n",
       " 'habit',\n",
       " 'curious',\n",
       " 'natures',\n",
       " 'victim',\n",
       " 'veteran',\n",
       " 'bores',\n",
       " 'abnormal',\n",
       " 'mind',\n",
       " 'quick',\n",
       " 'quality',\n",
       " 'normal',\n",
       " 'person',\n",
       " 'college',\n",
       " 'politician',\n",
       " 'privy',\n",
       " 'secret',\n",
       " 'wild',\n",
       " 'unknown',\n",
       " 'men',\n",
       " 'confidences',\n",
       " 'unsought',\n",
       " 'sleep',\n",
       " 'preoccupation',\n",
       " 'hostile',\n",
       " 'levity',\n",
       " 'unmistakable',\n",
       " 'sign',\n",
       " 'intimate',\n",
       " 'revelation',\n",
       " 'horizon',\n",
       " 'intimate',\n",
       " 'revelations',\n",
       " 'young',\n",
       " 'men',\n",
       " 'terms',\n",
       " 'plagiaristic',\n",
       " 'obvious',\n",
       " 'suppressions',\n",
       " 'judgments',\n",
       " 'matter',\n",
       " 'infinite',\n",
       " 'hope',\n",
       " 'little',\n",
       " 'afraid',\n",
       " 'father',\n",
       " 'sense',\n",
       " 'fundamental',\n",
       " 'decencies',\n",
       " 'birth',\n",
       " 'way',\n",
       " 'tolerance',\n",
       " 'admission',\n",
       " 'limit',\n",
       " 'Conduct',\n",
       " 'hard',\n",
       " 'rock',\n",
       " 'wet',\n",
       " 'marshes',\n",
       " 'certain',\n",
       " 'point',\n",
       " 'autumn',\n",
       " 'world',\n",
       " 'uniform',\n",
       " 'sort',\n",
       " 'moral',\n",
       " 'attention',\n",
       " 'riotous',\n",
       " 'excursions',\n",
       " 'privileged',\n",
       " 'glimpses',\n",
       " 'human',\n",
       " 'heart',\n",
       " 'man',\n",
       " 'book',\n",
       " 'exempt',\n",
       " 'reaction',\n",
       " 'unaffected',\n",
       " 'scorn',\n",
       " 'personality',\n",
       " 'unbroken',\n",
       " 'series',\n",
       " 'successful',\n",
       " 'gestures',\n",
       " 'gorgeous',\n",
       " 'sensitivity',\n",
       " 'promises',\n",
       " 'life',\n",
       " 'intricate',\n",
       " 'machines',\n",
       " 'miles',\n",
       " 'responsiveness',\n",
       " 'flabby',\n",
       " 'impressionability',\n",
       " 'dignified',\n",
       " 'creative',\n",
       " 'extraordinary',\n",
       " 'gift',\n",
       " 'hope',\n",
       " 'romantic',\n",
       " 'readiness',\n",
       " 'person',\n",
       " 'likely',\n",
       " 'end',\n",
       " 'foul',\n",
       " 'dust',\n",
       " 'wake',\n",
       " 'dreams',\n",
       " 'interest',\n",
       " 'abortive',\n",
       " 'sorrows',\n",
       " 'winded',\n",
       " 'elations',\n",
       " 'men']"
      ]
     },
     "execution_count": 10,
     "metadata": {},
     "output_type": "execute_result"
    }
   ],
   "source": [
    "gatsby_filt"
   ]
  },
  {
   "cell_type": "code",
   "execution_count": 11,
   "metadata": {},
   "outputs": [],
   "source": [
    "digrams = list(zip(gatsby_filt, gatsby_filt[1:]))\n",
    "trigrams = list(zip(gatsby_filt, gatsby_filt[1:], gatsby_filt[2:]))"
   ]
  },
  {
   "cell_type": "code",
   "execution_count": 12,
   "metadata": {},
   "outputs": [
    {
     "name": "stdout",
     "output_type": "stream",
     "text": [
      "[('younger', 'vulnerable'), ('vulnerable', 'years'), ('years', 'father'), ('father', 'advice'), ('advice', 'mind'), ('mind', 'people'), ('people', 'world'), ('world', 'advantages'), ('advantages', 'communicative'), ('communicative', 'reserved'), ('reserved', 'way'), ('way', 'great'), ('great', 'deal'), ('deal', 'consequence'), ('consequence', 'inclined'), ('inclined', 'judgments'), ('judgments', 'habit'), ('habit', 'curious'), ('curious', 'natures'), ('natures', 'victim'), ('victim', 'veteran'), ('veteran', 'bores'), ('bores', 'abnormal'), ('abnormal', 'mind'), ('mind', 'quick'), ('quick', 'quality'), ('quality', 'normal'), ('normal', 'person'), ('person', 'college'), ('college', 'politician'), ('politician', 'privy'), ('privy', 'secret'), ('secret', 'wild'), ('wild', 'unknown'), ('unknown', 'men'), ('men', 'confidences'), ('confidences', 'unsought'), ('unsought', 'sleep'), ('sleep', 'preoccupation'), ('preoccupation', 'hostile'), ('hostile', 'levity'), ('levity', 'unmistakable'), ('unmistakable', 'sign'), ('sign', 'intimate'), ('intimate', 'revelation'), ('revelation', 'horizon'), ('horizon', 'intimate'), ('intimate', 'revelations'), ('revelations', 'young'), ('young', 'men'), ('men', 'terms'), ('terms', 'plagiaristic'), ('plagiaristic', 'obvious'), ('obvious', 'suppressions'), ('suppressions', 'judgments'), ('judgments', 'matter'), ('matter', 'infinite'), ('infinite', 'hope'), ('hope', 'little'), ('little', 'afraid'), ('afraid', 'father'), ('father', 'sense'), ('sense', 'fundamental'), ('fundamental', 'decencies'), ('decencies', 'birth'), ('birth', 'way'), ('way', 'tolerance'), ('tolerance', 'admission'), ('admission', 'limit'), ('limit', 'Conduct'), ('Conduct', 'hard'), ('hard', 'rock'), ('rock', 'wet'), ('wet', 'marshes'), ('marshes', 'certain'), ('certain', 'point'), ('point', 'autumn'), ('autumn', 'world'), ('world', 'uniform'), ('uniform', 'sort'), ('sort', 'moral'), ('moral', 'attention'), ('attention', 'riotous'), ('riotous', 'excursions'), ('excursions', 'privileged'), ('privileged', 'glimpses'), ('glimpses', 'human'), ('human', 'heart'), ('heart', 'man'), ('man', 'book'), ('book', 'exempt'), ('exempt', 'reaction'), ('reaction', 'unaffected'), ('unaffected', 'scorn'), ('scorn', 'personality'), ('personality', 'unbroken'), ('unbroken', 'series'), ('series', 'successful'), ('successful', 'gestures'), ('gestures', 'gorgeous'), ('gorgeous', 'sensitivity'), ('sensitivity', 'promises'), ('promises', 'life'), ('life', 'intricate'), ('intricate', 'machines'), ('machines', 'miles'), ('miles', 'responsiveness'), ('responsiveness', 'flabby'), ('flabby', 'impressionability'), ('impressionability', 'dignified'), ('dignified', 'creative'), ('creative', 'extraordinary'), ('extraordinary', 'gift'), ('gift', 'hope'), ('hope', 'romantic'), ('romantic', 'readiness'), ('readiness', 'person'), ('person', 'likely'), ('likely', 'end'), ('end', 'foul'), ('foul', 'dust'), ('dust', 'wake'), ('wake', 'dreams'), ('dreams', 'interest'), ('interest', 'abortive'), ('abortive', 'sorrows'), ('sorrows', 'winded'), ('winded', 'elations'), ('elations', 'men')]\n"
     ]
    }
   ],
   "source": [
    "print(digrams)"
   ]
  },
  {
   "cell_type": "code",
   "execution_count": 13,
   "metadata": {},
   "outputs": [],
   "source": [
    "digrams = [' '.join(tup) for tup  in digrams]\n",
    "trigrams = [' '.join(tup) for tup in trigrams]"
   ]
  },
  {
   "cell_type": "code",
   "execution_count": 14,
   "metadata": {},
   "outputs": [
    {
     "name": "stdout",
     "output_type": "stream",
     "text": [
      "['younger vulnerable', 'vulnerable years', 'years father', 'father advice', 'advice mind', 'mind people', 'people world', 'world advantages', 'advantages communicative', 'communicative reserved', 'reserved way', 'way great', 'great deal', 'deal consequence', 'consequence inclined', 'inclined judgments', 'judgments habit', 'habit curious', 'curious natures', 'natures victim', 'victim veteran', 'veteran bores', 'bores abnormal', 'abnormal mind', 'mind quick', 'quick quality', 'quality normal', 'normal person', 'person college', 'college politician', 'politician privy', 'privy secret', 'secret wild', 'wild unknown', 'unknown men', 'men confidences', 'confidences unsought', 'unsought sleep', 'sleep preoccupation', 'preoccupation hostile', 'hostile levity', 'levity unmistakable', 'unmistakable sign', 'sign intimate', 'intimate revelation', 'revelation horizon', 'horizon intimate', 'intimate revelations', 'revelations young', 'young men', 'men terms', 'terms plagiaristic', 'plagiaristic obvious', 'obvious suppressions', 'suppressions judgments', 'judgments matter', 'matter infinite', 'infinite hope', 'hope little', 'little afraid', 'afraid father', 'father sense', 'sense fundamental', 'fundamental decencies', 'decencies birth', 'birth way', 'way tolerance', 'tolerance admission', 'admission limit', 'limit Conduct', 'Conduct hard', 'hard rock', 'rock wet', 'wet marshes', 'marshes certain', 'certain point', 'point autumn', 'autumn world', 'world uniform', 'uniform sort', 'sort moral', 'moral attention', 'attention riotous', 'riotous excursions', 'excursions privileged', 'privileged glimpses', 'glimpses human', 'human heart', 'heart man', 'man book', 'book exempt', 'exempt reaction', 'reaction unaffected', 'unaffected scorn', 'scorn personality', 'personality unbroken', 'unbroken series', 'series successful', 'successful gestures', 'gestures gorgeous', 'gorgeous sensitivity', 'sensitivity promises', 'promises life', 'life intricate', 'intricate machines', 'machines miles', 'miles responsiveness', 'responsiveness flabby', 'flabby impressionability', 'impressionability dignified', 'dignified creative', 'creative extraordinary', 'extraordinary gift', 'gift hope', 'hope romantic', 'romantic readiness', 'readiness person', 'person likely', 'likely end', 'end foul', 'foul dust', 'dust wake', 'wake dreams', 'dreams interest', 'interest abortive', 'abortive sorrows', 'sorrows winded', 'winded elations', 'elations men']\n"
     ]
    }
   ],
   "source": [
    "print(digrams)"
   ]
  },
  {
   "cell_type": "code",
   "execution_count": 23,
   "metadata": {},
   "outputs": [
    {
     "name": "stdout",
     "output_type": "stream",
     "text": [
      "done!\n"
     ]
    }
   ],
   "source": [
    "#Creating a grid indicating whether words are within 4 places of the target word\n",
    "adjacency_digram=pd.DataFrame(columns=digrams,index=digrams,data=0)\n",
    "\n",
    "#Iterating through each word in the text and indicating which of the unique words are its neighbors\n",
    "for i,word in enumerate(digrams):\n",
    "   \n",
    "    end=max(0,len(digrams)-(len(digrams)-(i+5)))\n",
    "    # The potential neighbors.\n",
    "    nextwords=digrams[i+1:end]\n",
    "    # Filtering the neighbors to select only those in the word list\n",
    "   \n",
    "    neighbors=[nextwords[i] for i in range(len(nextwords))] \n",
    "    # Adding 1 to the adjacency matrix for neighbors of the target word\n",
    "    if neighbors:\n",
    "        adjacency_digram.loc[word,neighbors]=adjacency_digram.loc[word,neighbors]+1\n",
    "\n",
    "print('done!')"
   ]
  },
  {
   "cell_type": "code",
   "execution_count": 24,
   "metadata": {},
   "outputs": [
    {
     "name": "stdout",
     "output_type": "stream",
     "text": [
      "[(0.008741685280630193, 'interest abortive'), (0.008741685280630192, 'advice mind'), (0.008549072337288351, 'mind people'), (0.00854907233728835, 'dreams interest'), (0.008396691872462302, 'people world')]\n"
     ]
    }
   ],
   "source": [
    "# Running TextRank\n",
    "\n",
    "nx_words = nx.from_numpy_matrix(adjacency_digram.values)\n",
    "ranks=nx.pagerank(nx_words, alpha=.85, tol=.00000001)\n",
    "\n",
    "# Identifying the five most highly ranked keywords\n",
    "ranked = sorted(((ranks[i],s) for i,s in enumerate(digrams)),\n",
    "                reverse=True)\n",
    "print(ranked[:5])"
   ]
  },
  {
   "cell_type": "markdown",
   "metadata": {},
   "source": [
    "Try it with the trigram now"
   ]
  },
  {
   "cell_type": "code",
   "execution_count": 25,
   "metadata": {},
   "outputs": [
    {
     "name": "stdout",
     "output_type": "stream",
     "text": [
      "done!\n"
     ]
    }
   ],
   "source": [
    "#Creating a grid indicating whether words are within 4 places of the target word\n",
    "adjacency_trigram=pd.DataFrame(columns=trigrams,index=trigrams,data=0)\n",
    "\n",
    "#Iterating through each word in the text and indicating which of the unique words are its neighbors\n",
    "for i,word in enumerate(trigrams):\n",
    "   \n",
    "    end=max(0,len(trigrams)-(len(trigrams)-(i+5)))\n",
    "    # The potential neighbors.\n",
    "    nextwords=trigrams[i+1:end]\n",
    "    # Filtering the neighbors to select only those in the word list\n",
    "   \n",
    "    neighbors=[nextwords[i] for i in range(len(nextwords))] \n",
    "    # Adding 1 to the adjacency matrix for neighbors of the target word\n",
    "    if neighbors:\n",
    "        adjacency_trigram.loc[word,neighbors]=adjacency_trigram.loc[word,neighbors]+1\n",
    "\n",
    "print('done!')"
   ]
  },
  {
   "cell_type": "code",
   "execution_count": 26,
   "metadata": {},
   "outputs": [
    {
     "name": "stdout",
     "output_type": "stream",
     "text": [
      "[(0.008809979696885118, 'dreams interest abortive'), (0.008809979696885118, 'advice mind people'), (0.008615861964923418, 'mind people world'), (0.008615861964923416, 'wake dreams interest'), (0.008462291027715913, 'people world advantages')]\n"
     ]
    }
   ],
   "source": [
    "# Running TextRank\n",
    "\n",
    "nx_words = nx.from_numpy_matrix(adjacency_trigram.values)\n",
    "ranks=nx.pagerank(nx_words, alpha=.85, tol=.00000001)\n",
    "\n",
    "# Identifying the five most highly ranked keywords\n",
    "ranked = sorted(((ranks[i],s) for i,s in enumerate(trigrams)),\n",
    "                reverse=True)\n",
    "print(ranked[:5])"
   ]
  },
  {
   "cell_type": "code",
   "execution_count": null,
   "metadata": {},
   "outputs": [],
   "source": []
  }
 ],
 "metadata": {
  "kernelspec": {
   "display_name": "Python 3",
   "language": "python",
   "name": "python3"
  },
  "language_info": {
   "codemirror_mode": {
    "name": "ipython",
    "version": 3
   },
   "file_extension": ".py",
   "mimetype": "text/x-python",
   "name": "python",
   "nbconvert_exporter": "python",
   "pygments_lexer": "ipython3",
   "version": "3.7.3"
  }
 },
 "nbformat": 4,
 "nbformat_minor": 2
}
